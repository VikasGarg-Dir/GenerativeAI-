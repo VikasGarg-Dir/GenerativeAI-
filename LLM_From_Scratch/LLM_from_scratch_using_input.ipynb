{
  "cells": [
    {
      "cell_type": "markdown",
      "metadata": {
        "id": "QyF1uy8Vnpf6"
      },
      "source": [
        "# **2.4M** Params LLM"
      ]
    },
    {
      "cell_type": "markdown",
      "metadata": {
        "id": "Lhf-gFopnpf6"
      },
      "source": [
        "## Table of Contents\n",
        "\n",
        "- Prerequisites\n",
        "- Understanding the Transformer Architecture of LLaMA\n",
        "  - Pre-normalization Using RMSNorm\n",
        "  - SwiGLU Activation Function\n",
        "  - Rotary Embeddings (RoPE)\n",
        "- Setting the Stage\n",
        "- Data Preprocessing\n",
        "- Evaluation Strategy\n",
        "- Setting Up a Base Neural Network Model\n",
        "- Replicating LLaMA Architecture\n",
        "  - RMSNorm for pre-normalization\n",
        "  - Rotary Embeddings\n",
        "  - SwiGLU activation function\n"
      ]
    },
    {
      "cell_type": "markdown",
      "metadata": {
        "id": "ZBYg5K7Anpf7"
      },
      "source": [
        "### SwiGLU Activation Function:\n",
        "\n",
        "LLaMA introduces the SwiGLU activation function, SwiGLU extends Swish and involves a custom layer with a dense network to split and multiply input activations."
      ]
    },
    {
      "cell_type": "markdown",
      "metadata": {
        "id": "aAJG_bzrnpf7"
      },
      "source": [
        "### Rotary Embeddings (RoPE):\n",
        "\n",
        "Rotary Embeddings, or RoPE, is a type of position embedding used in LLaMA. It encodes absolute positional information using a rotation matrix and naturally includes explicit relative position dependency in self-attention formulations. RoPE offers advantages such as scalability to various sequence lengths and decaying inter-token dependency with increasing relative distances.\n",
        "\n",
        "This is achieved by encoding relative positions through multiplication with a rotation matrix, resulting in decayed relative distances — a desirable feature for natural language encoding.\n",
        "\n",
        "The LLaMA introduces the use of the **AdamW optimizer** with specific parameters, efficient implementations such as the causal multi-head attention operator available in the xformers library, and manually implemented backward functions for transformer layers to optimize computation during backward passes."
      ]
    },
    {
      "cell_type": "markdown",
      "metadata": {
        "id": "kpeS7TLWnpf7"
      },
      "source": [
        "## Libraries and packages"
      ]
    },
    {
      "cell_type": "code",
      "execution_count": null,
      "metadata": {
        "colab": {
          "base_uri": "https://localhost:8080/"
        },
        "id": "eTIIdieQnpf8",
        "outputId": "952b5273-36e5-4409-c2e3-04e9000c906a"
      },
      "outputs": [
        {
          "name": "stdout",
          "output_type": "stream",
          "text": [
            "Collecting PyPDF2\n",
            "  Downloading pypdf2-3.0.1-py3-none-any.whl.metadata (6.8 kB)\n",
            "Downloading pypdf2-3.0.1-py3-none-any.whl (232 kB)\n",
            "\u001b[?25l   \u001b[90m━━━━━━━━━━━━━━━━━━━━━━━━━━━━━━━━━━━━━━━━\u001b[0m \u001b[32m0.0/232.6 kB\u001b[0m \u001b[31m?\u001b[0m eta \u001b[36m-:--:--\u001b[0m\r\u001b[2K   \u001b[91m━━━━━━━━━━━━━━━━━━━━━━━━━━━━━━━━━━━━━━\u001b[0m\u001b[91m╸\u001b[0m\u001b[90m━\u001b[0m \u001b[32m225.3/232.6 kB\u001b[0m \u001b[31m8.8 MB/s\u001b[0m eta \u001b[36m0:00:01\u001b[0m\r\u001b[2K   \u001b[90m━━━━━━━━━━━━━━━━━━━━━━━━━━━━━━━━━━━━━━━━\u001b[0m \u001b[32m232.6/232.6 kB\u001b[0m \u001b[31m5.0 MB/s\u001b[0m eta \u001b[36m0:00:00\u001b[0m\n",
            "\u001b[?25hInstalling collected packages: PyPDF2\n",
            "Successfully installed PyPDF2-3.0.1\n"
          ]
        }
      ],
      "source": [
        "# PyTorch for implementing LLM\n",
        "import torch\n",
        "\n",
        "# Neural network modules and functions from PyTorch\n",
        "from torch import nn\n",
        "from torch.nn import functional as F\n",
        "\n",
        "# NumPy for numerical operations\n",
        "import numpy as np\n",
        "\n",
        "# Matplotlib for plotting Loss etc.\n",
        "from matplotlib import pyplot as plt\n",
        "\n",
        "# Time module for tracking execution time\n",
        "import time\n",
        "\n",
        "# Pandas for data manipulation and analysis\n",
        "import pandas as pd\n",
        "\n",
        "# urllib for handling URL requests (Downloading Dataset)\n",
        "import urllib.request\n",
        "import requests\n",
        "from bs4 import BeautifulSoup\n",
        "import os\n",
        "import glob\n",
        "\n",
        "!pip install PyPDF2\n",
        "import PyPDF2"
      ]
    },
    {
      "cell_type": "code",
      "execution_count": null,
      "metadata": {
        "id": "uyh9lBtPnpf9"
      },
      "outputs": [],
      "source": [
        "# Configuration object for model parameters\n",
        "MASTER_CONFIG = {\n",
        "    # Adding parameters later\n",
        "}"
      ]
    },
    {
      "cell_type": "markdown",
      "metadata": {
        "id": "f0RId-DOnpf9"
      },
      "source": [
        "## Data Preprocessing\n",
        "\n",
        "**Dataset**:\n",
        "  - pdf files from Github repo\n",
        "  - text files from Github repo"
      ]
    },
    {
      "cell_type": "code",
      "execution_count": null,
      "metadata": {
        "colab": {
          "background_save": true,
          "base_uri": "https://localhost:8080/"
        },
        "id": "mTVRQMF10yUm",
        "outputId": "594009c8-29b1-43b0-cc42-c353a729ac28"
      },
      "outputs": [
        {
          "name": "stdout",
          "output_type": "stream",
          "text": [
            "Downloaded: text_files/basics.txt\n",
            "Downloaded: text_files/basics.txt\n",
            "Downloaded: text_files/input2.txt\n",
            "Downloaded: text_files/input2.txt\n",
            "Downloaded: text_files/sample.txt\n",
            "Downloaded: text_files/sample.txt\n",
            "Downloaded: pdf_files/11_page_notes.pdf\n",
            "Downloaded: pdf_files/11_page_notes.pdf\n",
            "Downloaded: pdf_files/Introduction_to_Quantum_Computing.pdf\n",
            "Downloaded: pdf_files/Introduction_to_Quantum_Computing.pdf\n",
            "Downloaded: pdf_files/basics_of_qc.pdf\n",
            "Downloaded: pdf_files/basics_of_qc.pdf\n",
            "Downloaded: pdf_files/intro_to_qc.pdf\n",
            "Downloaded: pdf_files/intro_to_qc.pdf\n",
            "Downloaded: pdf_files/p165.pdf\n",
            "Downloaded: pdf_files/p165.pdf\n",
            "Downloaded: pdf_files/qc_pdf.pdf\n",
            "Downloaded: pdf_files/qc_pdf.pdf\n",
            "Downloaded: pdf_files/qcnotes.pdf\n",
            "Downloaded: pdf_files/qcnotes.pdf\n",
            "Downloaded: pdf_files/quantum-notes.pdf\n",
            "Downloaded: pdf_files/quantum-notes.pdf\n",
            "First 10 characters in the vocab list: ['\\x00', '\\x01', '\\x02', '\\x03', '\\x04', '\\x05', '\\x06', '\\x07', '\\x08', '\\t']\n",
            "Total number of characters in dataset (Vocabulary Size): 317\n"
          ]
        }
      ],
      "source": [
        "def load_file(file_name):\n",
        "    \"\"\"Load content from a text or PDF file.\"\"\"\n",
        "    ext = os.path.splitext(file_name)[1].lower()\n",
        "    try:\n",
        "        if ext == '.txt':\n",
        "            with open(file_name, 'r', encoding='utf-8') as f:\n",
        "                return f.read()\n",
        "        elif ext == '.pdf':\n",
        "            with open(file_name, 'rb') as f:\n",
        "                reader = PyPDF2.PdfReader(f)\n",
        "                return \"\\n\".join(page.extract_text() or \"\" for page in reader.pages)\n",
        "        else:\n",
        "            print(f\"Unsupported file extension: {file_name}\")\n",
        "    except Exception as e:\n",
        "        print(f\"Could not load {file_name}: {e}\")\n",
        "    return \"\"\n",
        "\n",
        "def get_github_file_links(repo_url, file_extension):\n",
        "    \"\"\"Extracts raw file links from a GitHub directory for a specific file extension.\"\"\"\n",
        "    base_raw_url = repo_url.replace(\"github.com\", \"raw.githubusercontent.com\").replace(\"/tree/\", \"/\")\n",
        "\n",
        "    try:\n",
        "        response = requests.get(repo_url)\n",
        "        if response.status_code != 200:\n",
        "            print(f\"Failed to access {repo_url}\")\n",
        "            return []\n",
        "\n",
        "        soup = BeautifulSoup(response.text, 'html.parser')\n",
        "        file_links = []\n",
        "        for link in soup.find_all('a', href=True):\n",
        "            href = link['href']\n",
        "            if href.endswith(file_extension) and \"blob\" in href:\n",
        "                raw_url = href.replace(\"/blob/\", \"/\")\n",
        "                full_url = f\"https://raw.githubusercontent.com{raw_url}\"\n",
        "                file_links.append(full_url)\n",
        "\n",
        "        return file_links\n",
        "    except Exception as e:\n",
        "        print(f\"Error accessing {repo_url}: {e}\")\n",
        "        return []\n",
        "\n",
        "def download_file(url, local_path):\n",
        "    \"\"\"Download a file from a URL.\"\"\"\n",
        "    try:\n",
        "        urllib.request.urlretrieve(url, local_path)\n",
        "        print(f\"Downloaded: {local_path}\")\n",
        "    except Exception as e:\n",
        "        print(f\"Failed to download {url}: {e}\")\n",
        "\n",
        "def download_all_files(repo_url, local_folder, file_extension):\n",
        "    \"\"\"Download all files of a given extension from a GitHub repo directory.\"\"\"\n",
        "    if not os.path.exists(local_folder):\n",
        "        os.makedirs(local_folder)\n",
        "\n",
        "    file_links = get_github_file_links(repo_url, file_extension)\n",
        "    downloaded_files = []\n",
        "\n",
        "    for file_link in file_links:\n",
        "        file_name = os.path.join(local_folder, os.path.basename(file_link))\n",
        "        download_file(file_link, file_name)\n",
        "        downloaded_files.append(file_name)\n",
        "\n",
        "    return downloaded_files\n",
        "\n",
        "def load_and_combine_data(text_repo=None, text_folder=\"text_files\", pdf_repo=None, pdf_folder=\"pdf_files\"):\n",
        "    \"\"\"Load and combine data from all text and PDF files.\"\"\"\n",
        "    text_files = download_all_files(text_repo, text_folder, \".txt\") if text_repo else glob.glob(os.path.join(text_folder, \"*.txt\"))\n",
        "    pdf_files = download_all_files(pdf_repo, pdf_folder, \".pdf\") if pdf_repo else glob.glob(os.path.join(pdf_folder, \"*.pdf\"))\n",
        "\n",
        "    combined_text = \"\\n\".join(load_file(f) for f in text_files + pdf_files if load_file(f))\n",
        "\n",
        "    return combined_text\n",
        "\n",
        "# Example GitHub repository URLs\n",
        "# text_repo = \"https://github.com/anish3565/Test-datasets/tree/main/text-dataset\"\n",
        "text_repo = \"https://github.com/anish3565/Test-datasets/tree/main/text-dataset\"\n",
        "pdf_repo = \"https://github.com/anish3565/Test-datasets/tree/main/pdf-dataset\"  # Update if needed\n",
        "\n",
        "# Load and combine dataset from text and PDF sources\n",
        "combined_text = load_and_combine_data(text_repo, \"text_files\", pdf_repo, \"pdf_files\")\n",
        "\n",
        "# Create a sorted list of unique characters in the dataset\n",
        "vocab = sorted(set(combined_text))\n",
        "\n",
        "# Output vocabulary details\n",
        "print('First 10 characters in the vocab list:', vocab[:10])\n",
        "print('Total number of characters in dataset (Vocabulary Size):', len(vocab))"
      ]
    },
    {
      "cell_type": "markdown",
      "metadata": {
        "id": "9ve4Rts-npf9"
      },
      "source": [
        "Creating mappings between integers to characters (**itos**) and characters to integers (**stoi**)."
      ]
    },
    {
      "cell_type": "code",
      "execution_count": null,
      "metadata": {
        "colab": {
          "background_save": true
        },
        "id": "1ycqgWPdnpf9"
      },
      "outputs": [],
      "source": [
        "# Mapping integers to characters (itos)\n",
        "itos = {i: ch for i, ch in enumerate(vocab)}\n",
        "\n",
        "# Mapping characters to integers (stoi)\n",
        "stoi = {ch: i for i, ch in enumerate(vocab)}"
      ]
    },
    {
      "cell_type": "markdown",
      "metadata": {
        "id": "jF7zkKUDnpf9"
      },
      "source": [
        "#### Character-level tokenizer\n",
        "\n",
        "Encode and decode functions:"
      ]
    },
    {
      "cell_type": "code",
      "execution_count": null,
      "metadata": {
        "colab": {
          "background_save": true
        },
        "id": "yPVWaaLPnpf9"
      },
      "outputs": [],
      "source": [
        "# Encode function: Converts a string to a list of integers using the mapping stoi\n",
        "def encode(s):\n",
        "    return [stoi[ch] for ch in s]\n",
        "\n",
        "# Decode function: Converts a list of integers back to a string using the mapping itos\n",
        "def decode(l):\n",
        "    return ''.join([itos[i] for i in l])\n",
        "\n",
        "# # Example: Encode the string \"hello\" and then decode the result\n",
        "# decode(encode(\"morning\"))"
      ]
    },
    {
      "cell_type": "markdown",
      "metadata": {
        "id": "Jit8YKKwnpf9"
      },
      "source": [
        "Converting our dataset into a torch tensor using **PyTorch**:"
      ]
    },
    {
      "cell_type": "markdown",
      "metadata": {
        "id": "RSmrIbi3npf-"
      },
      "source": [
        "Establish two parameters crucial for this process (**batch_size** and **context_window**):\n",
        "\n",
        "- **batch_size** determines how many batches are processed at each random split\n",
        "\n",
        "- **context_window** specifies the number of characters in each input (x) and target (y) sequence of each batch.\n",
        "\n",
        "\n"
      ]
    },
    {
      "cell_type": "markdown",
      "metadata": {
        "id": "-QccVv5LiTKu"
      },
      "source": [
        "Random sample from the train split of batch 8 and context window 16 from our dataset:"
      ]
    },
    {
      "cell_type": "code",
      "execution_count": null,
      "metadata": {
        "colab": {
          "background_save": true,
          "base_uri": "https://localhost:8080/"
        },
        "id": "YIK9Glrinpf-",
        "outputId": "d1f4b4aa-63b9-481f-d668-928f26413237"
      },
      "outputs": [
        {
          "name": "stdout",
          "output_type": "stream",
          "text": [
            "torch.Size('torch.Size([3823085])') indicates that it has 3823085 tokens (~3.82M).\n"
          ]
        }
      ],
      "source": [
        "# Convert the dataset into a torch tensor with specified data type (dtype)\n",
        "dataset = torch.tensor(encode(combined_text), dtype=torch.int32)\n",
        "\n",
        "# Define MASTER_CONFIG with all required parameters at once\n",
        "MASTER_CONFIG = {\n",
        "    \"vocab_size\": len(vocab),\n",
        "    \"batch_size\": 8,          # Number of batches to be processed at each random split\n",
        "    \"context_window\": 16      # Number of characters in each input (x) and target (y) sequence of each batch\n",
        "}\n",
        "\n",
        "# Compute the total number of tokens\n",
        "num_tokens = dataset.numel()\n",
        "\n",
        "# Display the shape and token count in both raw form and millions\n",
        "print(f\"torch.Size('{dataset.shape}') indicates that it has {num_tokens} tokens (~{num_tokens / 1_000_000:.2f}M).\")"
      ]
    },
    {
      "cell_type": "code",
      "execution_count": null,
      "metadata": {
        "colab": {
          "background_save": true
        },
        "id": "RmJh-3qynpf-"
      },
      "outputs": [],
      "source": [
        "# Function to get batches for training, validation, or testing\n",
        "def get_batches(data, split, batch_size, context_window, config=MASTER_CONFIG):\n",
        "    # Split the dataset into training, validation, and test sets\n",
        "    train = data[:int(.8 * len(data))]\n",
        "    val = data[int(.8 * len(data)): int(.9 * len(data))]\n",
        "    test = data[int(.9 * len(data)):]\n",
        "\n",
        "    # Determine which split to use\n",
        "    batch_data = train\n",
        "    if split == 'val':\n",
        "        batch_data = val\n",
        "    if split == 'test':\n",
        "        batch_data = test\n",
        "\n",
        "    # Pick random starting points within the data\n",
        "    ix = torch.randint(0, batch_data.size(0) - context_window - 1, (batch_size,))\n",
        "\n",
        "    # Create input sequences (x) and corresponding target sequences (y)\n",
        "    x = torch.stack([batch_data[i:i+context_window] for i in ix]).long()\n",
        "    y = torch.stack([batch_data[i+1:i+context_window+1] for i in ix]).long()\n",
        "\n",
        "    return x, y"
      ]
    },
    {
      "cell_type": "code",
      "execution_count": null,
      "metadata": {
        "colab": {
          "background_save": true,
          "base_uri": "https://localhost:8080/"
        },
        "id": "XVfhaEyVnpf-",
        "outputId": "149aac77-02cb-412f-90a1-a7e601532cd4"
      },
      "outputs": [
        {
          "name": "stdout",
          "output_type": "stream",
          "text": [
            "[('roximately compu', 'oximately comput'), ('ric Bosonic\\nCode', 'ic Bosonic\\nCodes'), ('oduct of two ind', 'duct of two inde'), ('\\n76\\n•BQP (bounde', '76\\n•BQP (bounded'), (' lower bound.\\nEx', 'lower bound.\\nExe'), ('l locality such ', ' locality such t'), (' (This is not ob', '(This is not obv'), ('tes\\naddition mod', 'es\\naddition modu')]\n"
          ]
        }
      ],
      "source": [
        "# Obtain batches for training using the specified batch size and context window\n",
        "xs, ys = get_batches(dataset, 'train', MASTER_CONFIG['batch_size'], MASTER_CONFIG['context_window'])\n",
        "\n",
        "# Decode the sequences to obtain the corresponding text representations\n",
        "decoded_samples = [(decode(xs[i].tolist()), decode(ys[i].tolist())) for i in range(len(xs))]\n",
        "\n",
        "# Print the random sample\n",
        "print(decoded_samples)"
      ]
    },
    {
      "cell_type": "markdown",
      "metadata": {
        "id": "SqtBFWa8npf-"
      },
      "source": [
        "## Evaluation Strategy\n",
        "\n",
        "Function to evaluating the architecture."
      ]
    },
    {
      "cell_type": "code",
      "execution_count": null,
      "metadata": {
        "colab": {
          "background_save": true
        },
        "id": "HG4LqPEhnpf_"
      },
      "outputs": [],
      "source": [
        "@torch.no_grad()  # Don't compute gradients for this function\n",
        "def evaluate_loss(model, config=MASTER_CONFIG):\n",
        "    # Placeholder for the evaluation results\n",
        "    out = {}\n",
        "\n",
        "    # Set the model to evaluation mode\n",
        "    model.eval()\n",
        "\n",
        "    # Iterate through training and validation splits\n",
        "    for split in [\"train\", \"val\"]:\n",
        "        # Placeholder for individual losses\n",
        "        losses = []\n",
        "\n",
        "        # Generate 10 batches for evaluation\n",
        "        for _ in range(10):\n",
        "            # Get input sequences (xb) and target sequences (yb)\n",
        "            xb, yb = get_batches(dataset, split, config['batch_size'], config['context_window'])\n",
        "\n",
        "            # Perform model inference and calculate the loss\n",
        "            _, loss = model(xb, yb)\n",
        "\n",
        "            # Append the loss to the list\n",
        "            losses.append(loss.item())\n",
        "\n",
        "        # Calculate the mean loss for the split and store it in the output dictionary\n",
        "        out[split] = np.mean(losses)\n",
        "\n",
        "    # Set the model back to training mode\n",
        "    model.train()\n",
        "\n",
        "    return out"
      ]
    },
    {
      "cell_type": "markdown",
      "metadata": {
        "id": "Ryet3oqinpf_"
      },
      "source": [
        "Using the **loss** as a metric to assess the performance of the model during training iterations.\n",
        "\n",
        "Function iterates through the training and validation splits, computes the mean loss over 10 batches for each split, and finally returns the results. The model is then set back to training mode with **model.train()**.\n",
        "\n",
        "## Setting Up a Base Neural Network Model"
      ]
    },
    {
      "cell_type": "markdown",
      "metadata": {
        "id": "7nPKwuRynpf_"
      },
      "source": [
        "The embedding layer has some vocabulary size, representing the characters in our dataset.\n",
        "\n",
        "\n",
        "- For base model using **ReLU** as the activation function in the linear layers,\n",
        "- then using **SwiGLU**, similar as LLaMA.\n",
        "\n",
        "\n",
        "\n",
        "A forward function within our NN model"
      ]
    },
    {
      "cell_type": "code",
      "execution_count": null,
      "metadata": {
        "colab": {
          "background_save": true
        },
        "id": "udJC_uEhnpf_"
      },
      "outputs": [],
      "source": [
        "# Definition of a basic neural network class\n",
        "class SimpleBrokenModel(nn.Module):\n",
        "    def __init__(self, config=MASTER_CONFIG):\n",
        "        super().__init__()\n",
        "        self.config = config\n",
        "\n",
        "        # Embedding layer to convert character indices to vectors\n",
        "        self.embedding = nn.Embedding(config['vocab_size'], config['d_model'])\n",
        "\n",
        "        # Linear layers for modeling relationships between features\n",
        "        # (to be updated with SwiGLU activation function as in LLaMA)\n",
        "        self.linear = nn.Sequential(\n",
        "            nn.Linear(config['d_model'], config['d_model']),\n",
        "            nn.ReLU(),  # Currently using ReLU, will be replaced with SwiGLU as in LLaMA\n",
        "            nn.Linear(config['d_model'], config['vocab_size']),\n",
        "        )\n",
        "\n",
        "        # Print the total number of model parameters\n",
        "        print(\"Model parameters:\", sum([m.numel() for m in self.parameters()]))\n",
        "\n",
        "    # Forward pass function for the base model\n",
        "    def forward(self, idx, targets=None):\n",
        "        # Embedding layer converts character indices to vectors\n",
        "        x = self.embedding(idx)\n",
        "\n",
        "        # Linear layers for modeling relationships between features\n",
        "        a = self.linear(x)\n",
        "\n",
        "        # Apply softmax activation to obtain probability distribution\n",
        "        logits = F.softmax(a, dim=-1)\n",
        "\n",
        "        # If targets are provided, calculate and return the cross-entropy loss\n",
        "        if targets is not None:\n",
        "            # Reshape logits and targets for cross-entropy calculation\n",
        "            loss = F.cross_entropy(logits.view(-1, self.config['vocab_size']), targets.view(-1))\n",
        "            return logits, loss\n",
        "\n",
        "        # If targets are not provided, return the logits\n",
        "        else:\n",
        "            return logits"
      ]
    },
    {
      "cell_type": "markdown",
      "metadata": {
        "id": "Zg2wCQPjnpf_"
      },
      "source": [
        "This forward pass function,\n",
        "- takes character indices (idx) as input,\n",
        "- applies the embedding layer,\n",
        "- passes the result through linear layers,\n",
        "- applies a softmax activation to obtain a probability distribution (logits).\n",
        "\n",
        "If targets are provided,\n",
        "- calculates the cross-entropy loss and returns both logits and loss.\n",
        "\n",
        "If targets are not provided,\n",
        "- it returns only the logits.\n",
        "\n",
        "To instantiate this model, we can directly invoke the class and print the total number of parameters in our Simple Neural Network Model.\n",
        "\n",
        "Dimensions of linear layers: 128"
      ]
    },
    {
      "cell_type": "code",
      "execution_count": null,
      "metadata": {
        "colab": {
          "background_save": true,
          "base_uri": "https://localhost:8080/"
        },
        "id": "KJpdy_38npf_",
        "outputId": "b1a9eb17-cc4b-48d6-d753-e519ecdb3110"
      },
      "outputs": [
        {
          "name": "stdout",
          "output_type": "stream",
          "text": [
            "Model parameters: 97981\n",
            "Total number of parameters in the Simple Neural Network Model: 97981\n"
          ]
        }
      ],
      "source": [
        "# Update MASTER_CONFIG with model and training parameters\n",
        "MASTER_CONFIG.update({\n",
        "    'd_model': 128,         # Dimension of linear layers\n",
        "    'epochs': 1000,         # Number of training epochs\n",
        "    'log_interval': 10,     # Log information every 10 batches\n",
        "    'batch_size': 32,       # Batch size\n",
        "})\n",
        "\n",
        "# Instantiate the model using the final updated MASTER_CONFIG\n",
        "model = SimpleBrokenModel(MASTER_CONFIG)\n",
        "\n",
        "# Print total number of parameters in the model\n",
        "print(\"Total number of parameters in the Simple Neural Network Model:\",\n",
        "      sum(p.numel() for p in model.parameters()))\n",
        "\n",
        "# Define the Adam optimizer for model parameters\n",
        "optimizer = torch.optim.Adam(model.parameters())"
      ]
    },
    {
      "cell_type": "markdown",
      "metadata": {
        "id": "U6fSrcJFnpgH"
      },
      "source": [
        "To train the base model and note its performance, we need to specify some parameters.\n",
        "- Training for a total of 1000 epochs\n",
        "- Increasing the batch size to 32 from 8\n",
        "- setting the log_interval to 10, indicating that the code will print or log information about the training progress every 10 batches.\n",
        "\n",
        "For optimization, using the **Adam optimizer**."
      ]
    },
    {
      "cell_type": "markdown",
      "metadata": {
        "id": "ZW7x8UD7npgI"
      },
      "source": [
        "Executing the training process and capture the loss from our base model, including the total number of parameters."
      ]
    },
    {
      "cell_type": "code",
      "execution_count": null,
      "metadata": {
        "colab": {
          "background_save": true,
          "base_uri": "https://localhost:8080/",
          "height": 1000
        },
        "id": "Y8-_Qtb4npgI",
        "outputId": "3bcf8013-66f4-408a-b933-bfb8fe406972"
      },
      "outputs": [
        {
          "name": "stdout",
          "output_type": "stream",
          "text": [
            "Initial cross-entropy loss before training: **5.76**\n",
            "Epoch 0 | Validation Loss: 5.76 | Time 0.21s | ETA: 21.28s\n",
            "Epoch 10 | Validation Loss: 5.75 | Time 0.10s | ETA: 9.86s\n",
            "Epoch 20 | Validation Loss: 5.72 | Time 0.08s | ETA: 8.01s\n",
            "Epoch 30 | Validation Loss: 5.67 | Time 0.09s | ETA: 9.04s\n",
            "Epoch 40 | Validation Loss: 5.62 | Time 0.08s | ETA: 7.95s\n",
            "Epoch 50 | Validation Loss: 5.58 | Time 0.09s | ETA: 8.33s\n",
            "Epoch 60 | Validation Loss: 5.57 | Time 0.08s | ETA: 7.30s\n",
            "Epoch 70 | Validation Loss: 5.55 | Time 0.08s | ETA: 7.71s\n",
            "Epoch 80 | Validation Loss: 5.56 | Time 0.08s | ETA: 7.68s\n",
            "Epoch 90 | Validation Loss: 5.56 | Time 0.08s | ETA: 7.55s\n",
            "Epoch 100 | Validation Loss: 5.54 | Time 0.09s | ETA: 8.31s\n",
            "Epoch 110 | Validation Loss: 5.54 | Time 0.09s | ETA: 7.86s\n",
            "Epoch 120 | Validation Loss: 5.54 | Time 0.08s | ETA: 6.81s\n",
            "Epoch 130 | Validation Loss: 5.54 | Time 0.09s | ETA: 7.40s\n",
            "Epoch 140 | Validation Loss: 5.54 | Time 0.08s | ETA: 6.91s\n",
            "Epoch 150 | Validation Loss: 5.54 | Time 0.08s | ETA: 7.08s\n",
            "Epoch 160 | Validation Loss: 5.55 | Time 0.08s | ETA: 6.62s\n",
            "Epoch 170 | Validation Loss: 5.54 | Time 0.09s | ETA: 7.82s\n",
            "Epoch 180 | Validation Loss: 5.54 | Time 0.08s | ETA: 6.55s\n",
            "Epoch 190 | Validation Loss: 5.54 | Time 0.08s | ETA: 6.73s\n",
            "Epoch 200 | Validation Loss: 5.54 | Time 0.08s | ETA: 6.40s\n",
            "Epoch 210 | Validation Loss: 5.52 | Time 0.09s | ETA: 6.73s\n",
            "Epoch 220 | Validation Loss: 5.54 | Time 0.08s | ETA: 6.10s\n",
            "Epoch 230 | Validation Loss: 5.54 | Time 0.08s | ETA: 6.40s\n",
            "Epoch 240 | Validation Loss: 5.54 | Time 0.08s | ETA: 6.24s\n",
            "Epoch 250 | Validation Loss: 5.53 | Time 0.09s | ETA: 6.82s\n",
            "Epoch 260 | Validation Loss: 5.52 | Time 0.08s | ETA: 6.06s\n",
            "Epoch 270 | Validation Loss: 5.53 | Time 0.08s | ETA: 6.17s\n",
            "Epoch 280 | Validation Loss: 5.53 | Time 0.08s | ETA: 5.85s\n",
            "Epoch 290 | Validation Loss: 5.52 | Time 0.08s | ETA: 5.80s\n",
            "Epoch 300 | Validation Loss: 5.54 | Time 0.09s | ETA: 6.06s\n",
            "Epoch 310 | Validation Loss: 5.53 | Time 0.09s | ETA: 6.09s\n",
            "Epoch 320 | Validation Loss: 5.54 | Time 0.08s | ETA: 5.35s\n",
            "Epoch 330 | Validation Loss: 5.53 | Time 0.08s | ETA: 5.54s\n",
            "Epoch 340 | Validation Loss: 5.53 | Time 0.08s | ETA: 5.30s\n",
            "Epoch 350 | Validation Loss: 5.52 | Time 0.08s | ETA: 5.51s\n",
            "Epoch 360 | Validation Loss: 5.53 | Time 0.08s | ETA: 5.29s\n",
            "Epoch 370 | Validation Loss: 5.53 | Time 0.10s | ETA: 6.30s\n",
            "Epoch 380 | Validation Loss: 5.53 | Time 0.08s | ETA: 5.07s\n",
            "Epoch 390 | Validation Loss: 5.52 | Time 0.08s | ETA: 5.04s\n",
            "Epoch 400 | Validation Loss: 5.53 | Time 0.08s | ETA: 4.81s\n",
            "Epoch 410 | Validation Loss: 5.54 | Time 0.08s | ETA: 4.97s\n",
            "Epoch 420 | Validation Loss: 5.53 | Time 0.08s | ETA: 4.61s\n",
            "Epoch 430 | Validation Loss: 5.54 | Time 0.09s | ETA: 4.91s\n",
            "Epoch 440 | Validation Loss: 5.52 | Time 0.08s | ETA: 4.71s\n",
            "Epoch 450 | Validation Loss: 5.53 | Time 0.08s | ETA: 4.59s\n",
            "Epoch 460 | Validation Loss: 5.55 | Time 0.08s | ETA: 4.32s\n",
            "Epoch 470 | Validation Loss: 5.54 | Time 0.08s | ETA: 4.42s\n",
            "Epoch 480 | Validation Loss: 5.53 | Time 0.08s | ETA: 4.16s\n",
            "Epoch 490 | Validation Loss: 5.52 | Time 0.08s | ETA: 4.13s\n",
            "Epoch 500 | Validation Loss: 5.53 | Time 0.08s | ETA: 3.97s\n",
            "Epoch 510 | Validation Loss: 5.54 | Time 0.09s | ETA: 4.17s\n",
            "Epoch 520 | Validation Loss: 5.52 | Time 0.08s | ETA: 3.71s\n",
            "Epoch 530 | Validation Loss: 5.52 | Time 0.09s | ETA: 4.06s\n",
            "Epoch 540 | Validation Loss: 5.53 | Time 0.09s | ETA: 3.93s\n",
            "Epoch 550 | Validation Loss: 5.53 | Time 0.08s | ETA: 3.71s\n",
            "Epoch 560 | Validation Loss: 5.53 | Time 0.08s | ETA: 3.43s\n",
            "Epoch 570 | Validation Loss: 5.53 | Time 0.08s | ETA: 3.60s\n",
            "Epoch 580 | Validation Loss: 5.53 | Time 0.08s | ETA: 3.29s\n",
            "Epoch 590 | Validation Loss: 5.53 | Time 0.08s | ETA: 3.42s\n",
            "Epoch 600 | Validation Loss: 5.53 | Time 0.08s | ETA: 3.15s\n",
            "Epoch 610 | Validation Loss: 5.54 | Time 0.08s | ETA: 3.25s\n",
            "Epoch 620 | Validation Loss: 5.53 | Time 0.08s | ETA: 3.05s\n",
            "Epoch 630 | Validation Loss: 5.53 | Time 0.09s | ETA: 3.15s\n",
            "Epoch 640 | Validation Loss: 5.52 | Time 0.09s | ETA: 3.27s\n",
            "Epoch 650 | Validation Loss: 5.52 | Time 0.08s | ETA: 2.78s\n",
            "Epoch 660 | Validation Loss: 5.54 | Time 0.11s | ETA: 3.80s\n",
            "Epoch 670 | Validation Loss: 5.53 | Time 0.13s | ETA: 4.21s\n",
            "Epoch 680 | Validation Loss: 5.53 | Time 0.12s | ETA: 3.87s\n",
            "Epoch 690 | Validation Loss: 5.53 | Time 0.12s | ETA: 3.87s\n",
            "Epoch 700 | Validation Loss: 5.52 | Time 0.12s | ETA: 3.64s\n",
            "Epoch 710 | Validation Loss: 5.52 | Time 0.12s | ETA: 3.42s\n",
            "Epoch 720 | Validation Loss: 5.52 | Time 0.12s | ETA: 3.25s\n",
            "Epoch 730 | Validation Loss: 5.54 | Time 0.12s | ETA: 3.36s\n",
            "Epoch 740 | Validation Loss: 5.53 | Time 0.12s | ETA: 3.24s\n",
            "Epoch 750 | Validation Loss: 5.53 | Time 0.13s | ETA: 3.21s\n",
            "Epoch 760 | Validation Loss: 5.53 | Time 0.12s | ETA: 2.95s\n",
            "Epoch 770 | Validation Loss: 5.53 | Time 0.08s | ETA: 1.81s\n",
            "Epoch 780 | Validation Loss: 5.52 | Time 0.08s | ETA: 1.81s\n",
            "Epoch 790 | Validation Loss: 5.52 | Time 0.08s | ETA: 1.67s\n",
            "Epoch 800 | Validation Loss: 5.52 | Time 0.08s | ETA: 1.61s\n",
            "Epoch 810 | Validation Loss: 5.51 | Time 0.08s | ETA: 1.54s\n",
            "Epoch 820 | Validation Loss: 5.54 | Time 0.09s | ETA: 1.55s\n",
            "Epoch 830 | Validation Loss: 5.55 | Time 0.08s | ETA: 1.35s\n",
            "Epoch 840 | Validation Loss: 5.52 | Time 0.09s | ETA: 1.38s\n",
            "Epoch 850 | Validation Loss: 5.54 | Time 0.08s | ETA: 1.17s\n",
            "Epoch 860 | Validation Loss: 5.52 | Time 0.08s | ETA: 1.17s\n",
            "Epoch 870 | Validation Loss: 5.52 | Time 0.08s | ETA: 1.06s\n",
            "Epoch 880 | Validation Loss: 5.53 | Time 0.08s | ETA: 0.96s\n",
            "Epoch 890 | Validation Loss: 5.53 | Time 0.08s | ETA: 0.89s\n",
            "Epoch 900 | Validation Loss: 5.53 | Time 0.08s | ETA: 0.80s\n",
            "Epoch 910 | Validation Loss: 5.51 | Time 0.08s | ETA: 0.72s\n",
            "Epoch 920 | Validation Loss: 5.53 | Time 0.09s | ETA: 0.69s\n",
            "Epoch 930 | Validation Loss: 5.52 | Time 0.09s | ETA: 0.62s\n",
            "Epoch 940 | Validation Loss: 5.53 | Time 0.08s | ETA: 0.51s\n",
            "Epoch 950 | Validation Loss: 5.52 | Time 0.08s | ETA: 0.39s\n",
            "Epoch 960 | Validation Loss: 5.51 | Time 0.08s | ETA: 0.32s\n",
            "Epoch 970 | Validation Loss: 5.52 | Time 0.08s | ETA: 0.24s\n",
            "Epoch 980 | Validation Loss: 5.52 | Time 0.09s | ETA: 0.17s\n",
            "Epoch 990 | Validation Loss: 5.53 | Time 0.08s | ETA: 0.08s\n",
            "Final cross-entropy loss after 1000 epochs: **5.53**\n"
          ]
        },
        {
          "data": {
            "text/plain": [
              "<Axes: title={'center': 'Validation Loss over Training'}, xlabel='epoch'>"
            ]
          },
          "execution_count": 12,
          "metadata": {},
          "output_type": "execute_result"
        },
        {
          "data": {
            "image/png": "[encoded data removed]",
            "text/plain": [
              "<Figure size 640x480 with 1 Axes>"
            ]
          },
          "metadata": {},
          "output_type": "display_data"
        }
      ],
      "source": [
        "import time\n",
        "import torch\n",
        "import pandas as pd\n",
        "\n",
        "# Function to perform training\n",
        "def train(model, optimizer, scheduler=None, config=MASTER_CONFIG, print_logs=True):\n",
        "    \"\"\"Train the model and log cross-entropy loss dynamically.\"\"\"\n",
        "\n",
        "    # Placeholder for storing losses\n",
        "    losses = []\n",
        "\n",
        "    # Start tracking time\n",
        "    start_time = time.time()\n",
        "\n",
        "    # Evaluate initial cross-entropy loss before training\n",
        "    initial_loss = evaluate_loss(model)['val']\n",
        "    print(f\"Initial cross-entropy loss before training: **{initial_loss:.2f}**\")\n",
        "\n",
        "    # Iterate through epochs\n",
        "    for epoch in range(config['epochs']):\n",
        "        # Zero out gradients\n",
        "        optimizer.zero_grad()\n",
        "\n",
        "        # Obtain batches for training\n",
        "        xs, ys = get_batches(dataset, 'train', config['batch_size'], config['context_window'])\n",
        "\n",
        "        # Forward pass through the model to calculate logits and loss\n",
        "        logits, loss = model(xs, targets=ys)\n",
        "\n",
        "        # Backward pass and optimization step\n",
        "        loss.backward()\n",
        "        optimizer.step()\n",
        "\n",
        "        # If a learning rate scheduler is provided, adjust the learning rate\n",
        "        if scheduler:\n",
        "            scheduler.step()\n",
        "\n",
        "        # Log progress every specified interval\n",
        "        if epoch % config['log_interval'] == 0:\n",
        "            # Calculate batch time\n",
        "            batch_time = time.time() - start_time\n",
        "\n",
        "            # Evaluate loss on validation set\n",
        "            val_loss = evaluate_loss(model)['val']\n",
        "            losses.append({'epoch': epoch, 'val_loss': val_loss})\n",
        "\n",
        "            # Print progress logs\n",
        "            if print_logs:\n",
        "                print(f\"Epoch {epoch} | Validation Loss: {val_loss:.2f} | Time {batch_time:.2f}s | \"\n",
        "                      f\"ETA: {batch_time * (config['epochs'] - epoch) / config['log_interval']:.2f}s\")\n",
        "\n",
        "            # Reset the timer\n",
        "            start_time = time.time()\n",
        "\n",
        "            # Print learning rate if a scheduler is provided\n",
        "            if scheduler:\n",
        "                print(f\"Learning Rate: {scheduler.get_last_lr()[0]:.6f}\")\n",
        "\n",
        "    # Evaluate final cross-entropy loss\n",
        "    final_loss = losses[-1]['val_loss']\n",
        "    print(f\"Final cross-entropy loss after {config['epochs']} epochs: **{final_loss:.2f}**\")\n",
        "\n",
        "    # Return a plot of validation losses\n",
        "    return pd.DataFrame(losses).plot(x=\"epoch\", y=\"val_loss\", title=\"Validation Loss over Training\")\n",
        "\n",
        "# Execute the training process\n",
        "train(model, optimizer)"
      ]
    },
    {
      "cell_type": "markdown",
      "metadata": {
        "id": "gdiv6_KfnpgI"
      },
      "source": [
        "Softmax layer on the logits, transforms a vector of numbers into a probability distribution.\n",
        "\n",
        "Using the built-in F.cross_entropy function, we pass in the unnormalized logits."
      ]
    },
    {
      "cell_type": "markdown",
      "metadata": {
        "id": "2dMxL17ZnpgI"
      },
      "source": [
        "**\"generate\" function**:"
      ]
    },
    {
      "cell_type": "code",
      "execution_count": null,
      "metadata": {
        "colab": {
          "background_save": true
        },
        "id": "b-Oe7V3PnpgJ"
      },
      "outputs": [],
      "source": [
        "def generate(model, prompt, config=MASTER_CONFIG, max_new_tokens=1000, temperature=0.5, top_p=0.9):\n",
        "    # Initialize with prompt tokens\n",
        "    idx = torch.tensor(encode(prompt), dtype=torch.long).unsqueeze(0)  # Shape: (1, prompt_length)\n",
        "\n",
        "    for _ in range(max_new_tokens):\n",
        "        # Use only the last context_window tokens for conditioning\n",
        "        idx_cond = idx[:, -config['context_window']:]\n",
        "        logits = model(idx_cond)\n",
        "\n",
        "        # Scale the logits by temperature: lower temperature makes predictions more confident\n",
        "        last_logits = logits[:, -1, :] / temperature\n",
        "\n",
        "        # Convert logits to probabilities using softmax\n",
        "        probs = F.softmax(last_logits, dim=-1)\n",
        "\n",
        "        # Apply top-p (nucleus) sampling\n",
        "        sorted_probs, sorted_indices = torch.sort(probs, descending=True)\n",
        "        cumulative_probs = torch.cumsum(sorted_probs, dim=-1)\n",
        "        # Identify tokens to remove (those beyond the cumulative probability threshold)\n",
        "        sorted_indices_to_remove = cumulative_probs > top_p\n",
        "        sorted_indices_to_remove[..., 0] = 0  # Ensure at least one token remains\n",
        "        indices_to_remove = sorted_indices[sorted_indices_to_remove]\n",
        "        probs[:, indices_to_remove] = 0\n",
        "        # Renormalize probabilities\n",
        "        probs = probs / probs.sum(dim=-1, keepdim=True)\n",
        "\n",
        "        # Sample the next token from the filtered distribution\n",
        "        next_token = torch.multinomial(probs, num_samples=1)\n",
        "        # Append the new token to the sequence\n",
        "        idx = torch.cat([idx, next_token], dim=-1)\n",
        "\n",
        "    # Decode the full token sequence into a string\n",
        "    return decode(idx.squeeze(0).tolist())"
      ]
    },
    {
      "cell_type": "markdown",
      "metadata": {
        "id": "vyXQXm2hnpgJ"
      },
      "source": [
        "## LLaMA Architecture\n",
        "\n",
        " 1. RMSNorm for pre-normalization\n",
        "\n",
        " 2. Rotary embeddings\n",
        "\n",
        " 3. SwiGLU activation function"
      ]
    },
    {
      "cell_type": "markdown",
      "metadata": {
        "id": "U5JpcNqpnpgJ"
      },
      "source": [
        "### RMSNorm for pre-normalization:\n",
        "\n",
        "We are defining an RMSNorm function with the following functionalities:"
      ]
    },
    {
      "cell_type": "code",
      "execution_count": null,
      "metadata": {
        "colab": {
          "background_save": true
        },
        "id": "E7Bn4aWLnpgJ"
      },
      "outputs": [],
      "source": [
        "class RMSNorm(nn.Module):\n",
        "    def __init__(self, layer_shape, eps=1e-8, bias=False):\n",
        "        super(RMSNorm, self).__init__()\n",
        "\n",
        "        # Registering a learnable parameter 'scale' as a parameter of the module\n",
        "        self.register_parameter(\"scale\", nn.Parameter(torch.ones(layer_shape)))\n",
        "\n",
        "    def forward(self, x):\n",
        "        \"\"\"\n",
        "        Assumes shape is (batch, seq_len, d_model)\n",
        "        \"\"\"\n",
        "        # Calculating the Frobenius norm, RMS = 1/sqrt(N) * Frobenius norm\n",
        "        ff_rms = torch.linalg.norm(x, dim=(1,2)) * x[0].numel() ** -.5\n",
        "\n",
        "        # Normalizing the input tensor 'x' with respect to RMS\n",
        "        raw = x / ff_rms.unsqueeze(-1).unsqueeze(-1)\n",
        "\n",
        "        # Scaling the normalized tensor using the learnable parameter 'scale'\n",
        "        return self.scale[:x.shape[1], :].unsqueeze(0) * raw"
      ]
    },
    {
      "cell_type": "markdown",
      "metadata": {
        "id": "J-G81Sd0npgJ"
      },
      "source": [
        "Defining the RMSNorm class. During initialization, it registers a scale parameter.\n",
        "\n",
        "- In the forward pass, it calculates the **Frobenius norm** of the input tensor and then normalizes the tensor.\n",
        "- Finally, the tensor is scaled by the registered scale parameter.\n",
        "- This function is designed for use in LLaMA to replace the LayerNorm operation.\n",
        "\n",
        "Incorporating the first implementation concept of LLaMA, which is **RMSNorm**, into our simple NN model:"
      ]
    },
    {
      "cell_type": "markdown",
      "metadata": {
        "id": "yAJVn8HynpgJ"
      },
      "source": [
        "Executing the modified NN model with RMSNorm and observing the updated number of parameters in the model, along with the loss:"
      ]
    },
    {
      "cell_type": "markdown",
      "metadata": {
        "id": "npQMpwN-npgK"
      },
      "source": [
        "The validation loss decreases, and the parameters of updated LLM now total approximately 35,000."
      ]
    },
    {
      "cell_type": "markdown",
      "metadata": {
        "id": "sfowvuT9npgK"
      },
      "source": [
        "### **Rotary Embeddings:**\n",
        "\n",
        "RoPE is embedding the position of a token in a sequence by rotating the embedding, applying a different rotation at each position."
      ]
    },
    {
      "cell_type": "code",
      "execution_count": null,
      "metadata": {
        "colab": {
          "background_save": true
        },
        "id": "o_GapH4QnpgK"
      },
      "outputs": [],
      "source": [
        "def get_rotary_matrix(context_window, embedding_dim):\n",
        "    # Initialize a tensor for the rotary matrix with zeros\n",
        "    R = torch.zeros((context_window, embedding_dim, embedding_dim), requires_grad=False)\n",
        "\n",
        "    # Loop through each position in the context window\n",
        "    for position in range(context_window):\n",
        "        # Loop through each dimension in the embedding\n",
        "        for i in range(embedding_dim // 2):\n",
        "            # Calculate the rotation angle (theta) based on the position and embedding dimension\n",
        "            theta = 10000. ** (-2. * (i - 1) / embedding_dim)\n",
        "            # Calculate the rotated matrix elements using sine and cosine functions\n",
        "            m_theta = position * theta\n",
        "            R[position, 2 * i, 2 * i] = np.cos(m_theta)\n",
        "            R[position, 2 * i, 2 * i + 1] = -np.sin(m_theta)\n",
        "            R[position, 2 * i + 1, 2 * i] = np.sin(m_theta)\n",
        "            R[position, 2 * i + 1, 2 * i + 1] = np.cos(m_theta)\n",
        "    return R"
      ]
    },
    {
      "cell_type": "markdown",
      "metadata": {
        "id": "xlCX0gcRnpgK"
      },
      "source": [
        "Rotary matrix generated based on the specified context window and embedding dimension, following the proposed RoPE implementation.\n",
        "\n",
        "Like the architecture of transformers, which involves attention heads, similarly creating attention heads when replicating LLaMA.\n",
        "\n",
        "Creating a single **masked attention head** using the get_rotary_matrix function previously developed for rotary embeddings:"
      ]
    },
    {
      "cell_type": "code",
      "execution_count": null,
      "metadata": {
        "colab": {
          "background_save": true
        },
        "id": "j_fNyl_InpgK"
      },
      "outputs": [],
      "source": [
        "class RoPEMaskedAttentionHead(nn.Module):\n",
        "    def __init__(self, config):\n",
        "        super().__init__()\n",
        "        self.config = config\n",
        "        # Linear transformation for query\n",
        "        self.w_q = nn.Linear(config['d_model'], config['d_model'], bias=False)\n",
        "        # Linear transformation for key\n",
        "        self.w_k = nn.Linear(config['d_model'], config['d_model'], bias=False)\n",
        "        # Linear transformation for value\n",
        "        self.w_v = nn.Linear(config['d_model'], config['d_model'], bias=False)\n",
        "        # Obtain rotary matrix for positional embeddings\n",
        "        self.R = get_rotary_matrix(config['context_window'], config['d_model'])\n",
        "\n",
        "    def forward(self, x, return_attn_weights=False):\n",
        "        # x: input tensor of shape (batch, sequence length, dimension)\n",
        "\n",
        "        b, m, d = x.shape  # batch size, sequence length, dimension\n",
        "\n",
        "        # Linear transformations for Q, K, and V\n",
        "        q = self.w_q(x)\n",
        "        k = self.w_k(x)\n",
        "        v = self.w_v(x)\n",
        "\n",
        "        # Rotate Q and K using the RoPE matrix\n",
        "        q_rotated = (torch.bmm(q.transpose(0, 1), self.R[:m])).transpose(0, 1)\n",
        "        k_rotated = (torch.bmm(k.transpose(0, 1), self.R[:m])).transpose(0, 1)\n",
        "\n",
        "        # Perform scaled dot-product attention\n",
        "        activations = F.scaled_dot_product_attention(\n",
        "            q_rotated, k_rotated, v, dropout_p=0.1, is_causal=True\n",
        "        )\n",
        "\n",
        "        if return_attn_weights:\n",
        "            # Create a causal attention mask\n",
        "            attn_mask = torch.tril(torch.ones((m, m)), diagonal=0)\n",
        "            # Calculate attention weights and add causal mask\n",
        "            attn_weights = torch.bmm(q_rotated, k_rotated.transpose(1, 2)) / np.sqrt(d) + attn_mask\n",
        "            attn_weights = F.softmax(attn_weights, dim=-1)\n",
        "            return activations, attn_weights\n",
        "\n",
        "        return activations"
      ]
    },
    {
      "cell_type": "markdown",
      "metadata": {
        "id": "cHmmhMqPnpgK"
      },
      "source": [
        "Now that we have a single masked attention head that returns attention weights, the next step is to create a multi-Head attention mechanism."
      ]
    },
    {
      "cell_type": "code",
      "execution_count": null,
      "metadata": {
        "colab": {
          "background_save": true
        },
        "id": "KdcjL4B9npgK"
      },
      "outputs": [],
      "source": [
        "class RoPEMaskedMultiheadAttention(nn.Module):\n",
        "    def __init__(self, config):\n",
        "        super().__init__()\n",
        "        self.config = config\n",
        "        # Create a list of RoPEMaskedAttentionHead instances as attention heads\n",
        "        self.heads = nn.ModuleList([\n",
        "            RoPEMaskedAttentionHead(config) for _ in range(config['n_heads'])\n",
        "        ])\n",
        "        self.linear = nn.Linear(config['n_heads'] * config['d_model'], config['d_model'])  # Linear layer after concatenating heads\n",
        "        self.dropout = nn.Dropout(.1)  # Dropout layer\n",
        "\n",
        "    def forward(self, x):\n",
        "        # x: input tensor of shape (batch, sequence length, dimension)\n",
        "\n",
        "        # Process each attention head and concatenate the results\n",
        "        heads = [h(x) for h in self.heads]\n",
        "        x = torch.cat(heads, dim=-1)\n",
        "\n",
        "        # Apply linear transformation to the concatenated output\n",
        "        x = self.linear(x)\n",
        "\n",
        "        # Apply dropout\n",
        "        x = self.dropout(x)\n",
        "        return x"
      ]
    },
    {
      "cell_type": "code",
      "execution_count": null,
      "metadata": {
        "colab": {
          "background_save": true
        },
        "id": "9IQgunxInpgK"
      },
      "outputs": [],
      "source": [
        "# The master configuration with the number of attention heads\n",
        "MASTER_CONFIG.update({\n",
        "    'n_heads': 8,\n",
        "})"
      ]
    },
    {
      "cell_type": "markdown",
      "metadata": {
        "id": "GN4ASHXWnpgL"
      },
      "source": [
        "Implemented Rotational Embedding and Multi-head Attention,\n",
        "using RMSNorm neural network model with the updated code.\n",
        "\n",
        "\n",
        "Points to be tested:\n",
        "- performance\n",
        "- loss\n",
        "- number of parameters.\n",
        "\n",
        "Refering to this updated model as **“RopeModel”**"
      ]
    },
    {
      "cell_type": "markdown",
      "metadata": {
        "id": "IadU2oMsnpgL"
      },
      "source": [
        "Modified NN model with RMSNorm, Rotational Embeddings and Masked Multi Head Attentions and using 1000 epochs to observe the updated number of parameters in the model, along with the loss:"
      ]
    },
    {
      "cell_type": "code",
      "execution_count": null,
      "metadata": {
        "colab": {
          "background_save": true
        },
        "id": "SLb1qt5UnpgL"
      },
      "outputs": [],
      "source": [
        "# Updating training configuration with more epochs and a logging interval\n",
        "MASTER_CONFIG.update({\n",
        "    \"epochs\": 1000,\n",
        "    \"log_interval\": 10,\n",
        "})\n",
        "\n",
        "# # Training the model with the updated configuration\n",
        "# train(model, optimizer)"
      ]
    },
    {
      "cell_type": "markdown",
      "metadata": {
        "id": "91617R08npgL"
      },
      "source": [
        "The validation loss continues to decrease, suggesting that training for more epochs could lead to further loss reduction, although the change is slow."
      ]
    },
    {
      "cell_type": "markdown",
      "metadata": {
        "id": "3MpKZq5KnpgL"
      },
      "source": [
        "### SwiGLU activation function:\n",
        "\n",
        "\n",
        "\n",
        "![[https://arxiv.org/pdf/2002.05202v1.pdf](https://arxiv.org/pdf/2002.05202v1.pdf)](https://cdn-images-1.medium.com/max/27072/1*db6BeMw78FH_ZkVEGIyVPA.png)"
      ]
    },
    {
      "cell_type": "code",
      "execution_count": null,
      "metadata": {
        "colab": {
          "background_save": true
        },
        "id": "UoUfy4DBnpgM"
      },
      "outputs": [],
      "source": [
        "class SwiGLU(nn.Module):\n",
        "    def __init__(self, size):\n",
        "        super().__init__()\n",
        "        self.linear_gate = nn.Linear(size, size)\n",
        "        self.linear = nn.Linear(size, size)\n",
        "        self.beta = torch.randn(1, requires_grad=True)\n",
        "\n",
        "        self.beta = nn.Parameter(torch.ones(1))\n",
        "        self.register_parameter(\"beta\", self.beta)\n",
        "\n",
        "    def forward(self, x):\n",
        "        swish_gate = self.linear_gate(x) * torch.sigmoid(self.beta * self.linear_gate(x))\n",
        "        out = swish_gate * self.linear(x)\n",
        "        return out"
      ]
    },
    {
      "cell_type": "markdown",
      "metadata": {
        "id": "a31hz6qGnpgM"
      },
      "source": [
        "Integrating SwiGLU equation into our modified LLaMA language model (**RopeModel**)."
      ]
    },
    {
      "cell_type": "markdown",
      "metadata": {
        "id": "vAUYtWxtnpgM"
      },
      "source": [
        "Executing the modified NN model with RMSNorm, Rotational Embeddings, Masked Multi Head Attentions and SwiGLU to observe the updated number of parameters in the model, along with the loss:"
      ]
    },
    {
      "cell_type": "markdown",
      "metadata": {
        "id": "rsPKGUldnpgM"
      },
      "source": [
        "Implemented the key components of the paper, namely RMSNorm, RoPE, and SwiGLU and implementation of these led to a minimal decrease in the loss."
      ]
    },
    {
      "cell_type": "code",
      "execution_count": null,
      "metadata": {
        "colab": {
          "background_save": true
        },
        "id": "dDiRvwCXnpgM"
      },
      "outputs": [],
      "source": [
        "# Update model configurations for the number of layers\n",
        "MASTER_CONFIG.update({\n",
        "    'n_layers': 4,  # Set the number of layers to 4\n",
        "})"
      ]
    },
    {
      "cell_type": "code",
      "execution_count": null,
      "metadata": {
        "colab": {
          "background_save": true
        },
        "id": "_tkzyzifnpgM"
      },
      "outputs": [],
      "source": [
        "# add RMSNorm and residual conncection\n",
        "class LlamaBlock(nn.Module):\n",
        "    def __init__(self, config):\n",
        "        super().__init__()\n",
        "        self.config = config\n",
        "\n",
        "        self.rms = RMSNorm((config['context_window'], config['d_model']))\n",
        "\n",
        "        self.attention = RoPEMaskedMultiheadAttention(config)\n",
        "        self.feedforward = nn.Sequential(\n",
        "            nn.Linear(config['d_model'], config['d_model']),\n",
        "            SwiGLU(config['d_model']),\n",
        "        )\n",
        "\n",
        "    def forward(self, x):\n",
        "        x = self.rms(x) # rms pre-normalization\n",
        "        x = x + self.attention(x)\n",
        "\n",
        "        x = self.rms(x) # rms pre-normalization\n",
        "        x = x + self.feedforward(x)\n",
        "        return x"
      ]
    },
    {
      "cell_type": "markdown",
      "metadata": {
        "id": "g1dCmy-GnpgN"
      },
      "source": [
        "Creating an instance of the LlamaBlock class and applying it to a random tensor."
      ]
    },
    {
      "cell_type": "code",
      "execution_count": null,
      "metadata": {
        "colab": {
          "background_save": true,
          "base_uri": "https://localhost:8080/"
        },
        "id": "blW0fsgpnpgN",
        "outputId": "4cbae127-4adf-442a-cec3-024c0c30fcf5"
      },
      "outputs": [
        {
          "data": {
            "text/plain": [
              "{'vocab_size': 317,\n",
              " 'batch_size': 32,\n",
              " 'context_window': 16,\n",
              " 'd_model': 128,\n",
              " 'epochs': 1000,\n",
              " 'log_interval': 10,\n",
              " 'n_heads': 8,\n",
              " 'n_layers': 4}"
            ]
          },
          "execution_count": 23,
          "metadata": {},
          "output_type": "execute_result"
        }
      ],
      "source": [
        "MASTER_CONFIG"
      ]
    },
    {
      "cell_type": "code",
      "execution_count": null,
      "metadata": {
        "colab": {
          "background_save": true
        },
        "id": "x-gURFVQnpgN"
      },
      "outputs": [],
      "source": [
        "block = LlamaBlock(MASTER_CONFIG)\n",
        "block(torch.randn(MASTER_CONFIG['batch_size'], MASTER_CONFIG['context_window'], MASTER_CONFIG['d_model']));"
      ]
    },
    {
      "cell_type": "code",
      "execution_count": null,
      "metadata": {
        "colab": {
          "background_save": true
        },
        "id": "RBhKoDqenpgN"
      },
      "outputs": [],
      "source": [
        "# Create an instance of the LlamaBlock class with the provided configuration\n",
        "block = LlamaBlock(MASTER_CONFIG)\n",
        "\n",
        "# Generate a random tensor with the specified batch size, context window, and model dimension\n",
        "random_input = torch.randn(MASTER_CONFIG['batch_size'], MASTER_CONFIG['context_window'], MASTER_CONFIG['d_model'])\n",
        "\n",
        "# Apply the LlamaBlock to the random input tensor\n",
        "output = block(random_input)"
      ]
    },
    {
      "cell_type": "code",
      "execution_count": null,
      "metadata": {
        "colab": {
          "background_save": true
        },
        "id": "1YhEJWJlnpgN"
      },
      "outputs": [],
      "source": [
        "from collections import OrderedDict\n",
        "\n",
        "MASTER_CONFIG.update({\n",
        "    'n_layers': 4,\n",
        "})\n",
        "\n",
        "class Llama(nn.Module):\n",
        "    def __init__(self, config):\n",
        "        super().__init__()\n",
        "        self.config = config\n",
        "        # Embedding layer for token representations\n",
        "        self.embeddings = nn.Embedding(config['vocab_size'], config['d_model'])\n",
        "        # Sequential block of LlamaBlocks based on the specified number of layers\n",
        "        self.llama_blocks = nn.Sequential(\n",
        "            OrderedDict([(f\"llama_{i}\", LlamaBlock(config)) for i in range(config['n_layers'])])\n",
        "        )\n",
        "        # Feedforward network (FFN) for final output\n",
        "        self.ffn = nn.Sequential(\n",
        "            nn.Linear(config['d_model'], config['d_model']),\n",
        "            SwiGLU(config['d_model']),\n",
        "            nn.Linear(config['d_model'], config['vocab_size']),\n",
        "        )\n",
        "\n",
        "        # Print total number of parameters in the model\n",
        "        print(\"model params:\", sum([m.numel() for m in self.parameters()]))\n",
        "\n",
        "    def forward(self, idx, targets=None):\n",
        "        # Input token indices are passed through the embedding layer\n",
        "        x = self.embeddings(idx)\n",
        "        # Process the input through the LlamaBlocks\n",
        "        x = self.llama_blocks(x)\n",
        "        # Pass the processed input through the final FFN for output logits\n",
        "        logits = self.ffn(x)\n",
        "\n",
        "        # If targets are not provided, return only the logits\n",
        "        if targets is None:\n",
        "            return logits\n",
        "        # If targets are provided, compute and return the cross-entropy loss\n",
        "        else:\n",
        "            loss = F.cross_entropy(logits.view(-1, self.config['vocab_size']), targets.view(-1))\n",
        "            return logits, loss"
      ]
    },
    {
      "cell_type": "markdown",
      "metadata": {
        "id": "ZkgZDcpRnpgN"
      },
      "source": [
        "Executing the modified LLaMA model with RMSNorm, Rotational Embeddings, Masked Multi Head Attentions, SwiGLU and N_layers to observe the updated number of parameters in the model, along with the loss:"
      ]
    },
    {
      "cell_type": "code",
      "execution_count": null,
      "metadata": {
        "colab": {
          "base_uri": "https://localhost:8080/"
        },
        "id": "Jn09WEZtnpgN",
        "outputId": "cafd3ad9-76ed-4891-932f-0cb9309c8f04"
      },
      "outputs": [
        {
          "name": "stdout",
          "output_type": "stream",
          "text": [
            "model params: 2435010\n",
            "Initial cross-entropy loss before training: **5.76**\n",
            "Epoch 0 | Validation Loss: 5.72 | Time 2.04s | ETA: 204.07s\n",
            "Epoch 10 | Validation Loss: 3.83 | Time 3.20s | ETA: 316.39s\n",
            "Epoch 20 | Validation Loss: 3.54 | Time 2.95s | ETA: 289.13s\n",
            "Epoch 30 | Validation Loss: 3.57 | Time 2.89s | ETA: 280.52s\n",
            "Epoch 40 | Validation Loss: 3.49 | Time 3.59s | ETA: 344.98s\n",
            "Epoch 50 | Validation Loss: 3.43 | Time 2.74s | ETA: 260.63s\n",
            "Epoch 60 | Validation Loss: 3.24 | Time 2.74s | ETA: 257.59s\n",
            "Epoch 70 | Validation Loss: 3.17 | Time 2.90s | ETA: 270.12s\n",
            "Epoch 80 | Validation Loss: 3.23 | Time 2.98s | ETA: 274.20s\n",
            "Epoch 90 | Validation Loss: 3.08 | Time 3.67s | ETA: 333.73s\n",
            "Epoch 100 | Validation Loss: 3.00 | Time 2.90s | ETA: 261.08s\n",
            "Epoch 110 | Validation Loss: 2.85 | Time 3.24s | ETA: 287.99s\n",
            "Epoch 120 | Validation Loss: 2.95 | Time 2.95s | ETA: 259.92s\n",
            "Epoch 130 | Validation Loss: 2.82 | Time 2.75s | ETA: 239.15s\n",
            "Epoch 140 | Validation Loss: 2.91 | Time 3.84s | ETA: 330.41s\n",
            "Epoch 150 | Validation Loss: 2.80 | Time 2.79s | ETA: 236.88s\n",
            "Epoch 160 | Validation Loss: 2.67 | Time 3.77s | ETA: 316.31s\n",
            "Epoch 170 | Validation Loss: 2.72 | Time 2.94s | ETA: 244.07s\n",
            "Epoch 180 | Validation Loss: 2.73 | Time 3.00s | ETA: 246.34s\n",
            "Epoch 190 | Validation Loss: 2.69 | Time 3.10s | ETA: 250.87s\n",
            "Epoch 200 | Validation Loss: 2.68 | Time 2.79s | ETA: 223.50s\n",
            "Epoch 210 | Validation Loss: 2.56 | Time 3.42s | ETA: 270.02s\n",
            "Epoch 220 | Validation Loss: 2.66 | Time 2.94s | ETA: 229.69s\n",
            "Epoch 230 | Validation Loss: 2.62 | Time 2.83s | ETA: 217.76s\n",
            "Epoch 240 | Validation Loss: 2.56 | Time 3.33s | ETA: 252.83s\n",
            "Epoch 250 | Validation Loss: 2.61 | Time 2.92s | ETA: 219.03s\n",
            "Epoch 260 | Validation Loss: 2.59 | Time 3.66s | ETA: 270.72s\n",
            "Epoch 270 | Validation Loss: 2.55 | Time 2.96s | ETA: 215.88s\n",
            "Epoch 280 | Validation Loss: 2.49 | Time 2.72s | ETA: 196.15s\n",
            "Epoch 290 | Validation Loss: 2.61 | Time 3.20s | ETA: 226.95s\n",
            "Epoch 300 | Validation Loss: 2.53 | Time 2.66s | ETA: 186.06s\n",
            "Epoch 310 | Validation Loss: 2.53 | Time 3.53s | ETA: 243.28s\n",
            "Epoch 320 | Validation Loss: 2.51 | Time 2.80s | ETA: 190.37s\n",
            "Epoch 330 | Validation Loss: 2.42 | Time 2.93s | ETA: 196.33s\n",
            "Epoch 340 | Validation Loss: 2.48 | Time 3.61s | ETA: 238.00s\n",
            "Epoch 350 | Validation Loss: 2.47 | Time 2.73s | ETA: 177.39s\n",
            "Epoch 360 | Validation Loss: 2.43 | Time 3.29s | ETA: 210.60s\n",
            "Epoch 370 | Validation Loss: 2.39 | Time 2.94s | ETA: 184.95s\n",
            "Epoch 380 | Validation Loss: 2.32 | Time 2.74s | ETA: 170.04s\n",
            "Epoch 390 | Validation Loss: 2.38 | Time 3.60s | ETA: 219.84s\n",
            "Epoch 400 | Validation Loss: 2.38 | Time 2.98s | ETA: 179.03s\n",
            "Epoch 410 | Validation Loss: 2.43 | Time 3.58s | ETA: 211.31s\n",
            "Epoch 420 | Validation Loss: 2.42 | Time 2.95s | ETA: 170.92s\n",
            "Epoch 430 | Validation Loss: 2.40 | Time 2.78s | ETA: 158.49s\n",
            "Epoch 440 | Validation Loss: 2.33 | Time 3.35s | ETA: 187.39s\n",
            "Epoch 450 | Validation Loss: 2.38 | Time 2.73s | ETA: 149.88s\n",
            "Epoch 460 | Validation Loss: 2.29 | Time 3.09s | ETA: 167.10s\n",
            "Epoch 470 | Validation Loss: 2.29 | Time 2.87s | ETA: 151.95s\n",
            "Epoch 480 | Validation Loss: 2.33 | Time 2.77s | ETA: 143.79s\n",
            "Epoch 490 | Validation Loss: 2.30 | Time 3.58s | ETA: 182.50s\n",
            "Epoch 500 | Validation Loss: 2.34 | Time 2.86s | ETA: 142.92s\n",
            "Epoch 510 | Validation Loss: 2.40 | Time 2.94s | ETA: 144.26s\n",
            "Epoch 520 | Validation Loss: 2.25 | Time 4.25s | ETA: 204.02s\n",
            "Epoch 530 | Validation Loss: 2.30 | Time 2.99s | ETA: 140.60s\n",
            "Epoch 540 | Validation Loss: 2.35 | Time 3.18s | ETA: 146.13s\n",
            "Epoch 550 | Validation Loss: 2.36 | Time 2.66s | ETA: 119.53s\n",
            "Epoch 560 | Validation Loss: 2.29 | Time 3.50s | ETA: 153.99s\n",
            "Epoch 570 | Validation Loss: 2.36 | Time 3.00s | ETA: 129.16s\n",
            "Epoch 580 | Validation Loss: 2.36 | Time 2.85s | ETA: 119.87s\n",
            "Epoch 590 | Validation Loss: 2.34 | Time 3.09s | ETA: 126.83s\n",
            "Epoch 600 | Validation Loss: 2.25 | Time 2.81s | ETA: 112.20s\n",
            "Epoch 610 | Validation Loss: 2.29 | Time 3.70s | ETA: 144.47s\n",
            "Epoch 620 | Validation Loss: 2.26 | Time 2.68s | ETA: 101.88s\n",
            "Epoch 630 | Validation Loss: 2.22 | Time 2.91s | ETA: 107.65s\n",
            "Epoch 640 | Validation Loss: 2.28 | Time 3.40s | ETA: 122.28s\n",
            "Epoch 650 | Validation Loss: 2.24 | Time 2.86s | ETA: 100.05s\n",
            "Epoch 660 | Validation Loss: 2.22 | Time 3.31s | ETA: 112.53s\n",
            "Epoch 670 | Validation Loss: 2.23 | Time 2.75s | ETA: 90.69s\n",
            "Epoch 680 | Validation Loss: 2.24 | Time 2.77s | ETA: 88.56s\n",
            "Epoch 690 | Validation Loss: 2.25 | Time 3.75s | ETA: 116.36s\n",
            "Epoch 700 | Validation Loss: 2.28 | Time 2.73s | ETA: 81.78s\n",
            "Epoch 710 | Validation Loss: 2.20 | Time 3.10s | ETA: 89.81s\n",
            "Epoch 720 | Validation Loss: 2.31 | Time 2.79s | ETA: 78.14s\n",
            "Epoch 730 | Validation Loss: 2.24 | Time 2.76s | ETA: 74.54s\n",
            "Epoch 740 | Validation Loss: 2.23 | Time 3.88s | ETA: 100.78s\n",
            "Epoch 750 | Validation Loss: 2.18 | Time 2.68s | ETA: 67.07s\n",
            "Epoch 760 | Validation Loss: 2.29 | Time 2.91s | ETA: 69.72s\n",
            "Epoch 770 | Validation Loss: 2.11 | Time 2.89s | ETA: 66.38s\n",
            "Epoch 780 | Validation Loss: 2.20 | Time 2.80s | ETA: 61.58s\n",
            "Epoch 790 | Validation Loss: 2.09 | Time 3.67s | ETA: 77.16s\n",
            "Epoch 800 | Validation Loss: 2.30 | Time 2.69s | ETA: 53.84s\n",
            "Epoch 810 | Validation Loss: 2.22 | Time 2.95s | ETA: 56.06s\n",
            "Epoch 820 | Validation Loss: 2.17 | Time 3.02s | ETA: 54.38s\n",
            "Epoch 830 | Validation Loss: 2.19 | Time 3.00s | ETA: 50.99s\n",
            "Epoch 840 | Validation Loss: 2.23 | Time 3.81s | ETA: 60.94s\n",
            "Epoch 850 | Validation Loss: 2.12 | Time 2.69s | ETA: 40.42s\n",
            "Epoch 860 | Validation Loss: 2.21 | Time 2.66s | ETA: 37.19s\n",
            "Epoch 870 | Validation Loss: 2.17 | Time 2.86s | ETA: 37.21s\n",
            "Epoch 880 | Validation Loss: 2.22 | Time 2.76s | ETA: 33.12s\n",
            "Epoch 890 | Validation Loss: 2.07 | Time 3.91s | ETA: 42.98s\n",
            "Epoch 900 | Validation Loss: 2.19 | Time 2.74s | ETA: 27.35s\n",
            "Epoch 910 | Validation Loss: 2.18 | Time 2.80s | ETA: 25.21s\n",
            "Epoch 920 | Validation Loss: 2.13 | Time 3.18s | ETA: 25.44s\n",
            "Epoch 930 | Validation Loss: 2.14 | Time 3.01s | ETA: 21.04s\n",
            "Epoch 940 | Validation Loss: 2.05 | Time 3.89s | ETA: 23.35s\n",
            "Epoch 950 | Validation Loss: 2.13 | Time 2.70s | ETA: 13.50s\n",
            "Epoch 960 | Validation Loss: 2.05 | Time 2.98s | ETA: 11.92s\n",
            "Epoch 970 | Validation Loss: 2.10 | Time 3.29s | ETA: 9.87s\n",
            "Epoch 980 | Validation Loss: 2.20 | Time 2.97s | ETA: 5.93s\n",
            "Epoch 990 | Validation Loss: 2.18 | Time 3.89s | ETA: 3.89s\n",
            "Final cross-entropy loss after 1000 epochs: **2.18**\n"
          ]
        },
        {
          "data": {
            "text/plain": [
              "<Axes: title={'center': 'Validation Loss over Training'}, xlabel='epoch'>"
            ]
          },
          "execution_count": 27,
          "metadata": {},
          "output_type": "execute_result"
        },
        {
          "data": {
            "image/png": "[encoded data removed]",
            "text/plain": [
              "<Figure size 640x480 with 1 Axes>"
            ]
          },
          "metadata": {},
          "output_type": "display_data"
        }
      ],
      "source": [
        "# Create an instance of RopeModel (RMSNorm, RoPE, Multi-Head, SwiGLU, N_layers)\n",
        "llama = Llama(MASTER_CONFIG)\n",
        "\n",
        "# Obtain batches for training\n",
        "xs, ys = get_batches(dataset, 'train', MASTER_CONFIG['batch_size'], MASTER_CONFIG['context_window'])\n",
        "\n",
        "# Calculate logits and loss using the model\n",
        "logits, loss = llama(xs, ys)\n",
        "\n",
        "# Define the Adam optimizer for model parameters\n",
        "optimizer = torch.optim.Adam(llama.parameters())\n",
        "\n",
        "# Train the model\n",
        "train(llama, optimizer)"
      ]
    },
    {
      "cell_type": "markdown",
      "metadata": {
        "id": "rrPvtwSm13hM"
      },
      "source": [
        "Epochs:\n",
        "- 100 : Works\n",
        "- 500 : Works\n",
        "- 1000 : Works\n",
        "- 700 : Works\n",
        "- 800 : Works\n"
      ]
    },
    {
      "cell_type": "code",
      "execution_count": null,
      "metadata": {
        "colab": {
          "base_uri": "https://localhost:8080/",
          "height": 1000
        },
        "id": "4sbPgHn_npgO",
        "outputId": "34d96f90-ef6f-4b78-d08a-4323250b286a"
      },
      "outputs": [
        {
          "name": "stdout",
          "output_type": "stream",
          "text": [
            "Initial cross-entropy loss before training: **2.16**\n",
            "Epoch 0 | Validation Loss: 2.21 | Time 2.04s | ETA: 163.38s\n",
            "Learning Rate: 0.001000\n",
            "Epoch 10 | Validation Loss: 2.18 | Time 3.44s | ETA: 271.73s\n",
            "Learning Rate: 0.001000\n",
            "Epoch 20 | Validation Loss: 2.11 | Time 2.98s | ETA: 232.26s\n",
            "Learning Rate: 0.001000\n",
            "Epoch 30 | Validation Loss: 2.06 | Time 2.71s | ETA: 208.77s\n",
            "Learning Rate: 0.001000\n",
            "Epoch 40 | Validation Loss: 2.13 | Time 3.51s | ETA: 267.01s\n",
            "Learning Rate: 0.001000\n",
            "Epoch 50 | Validation Loss: 2.13 | Time 2.90s | ETA: 217.36s\n",
            "Learning Rate: 0.000500\n",
            "Epoch 60 | Validation Loss: 2.11 | Time 3.56s | ETA: 263.61s\n",
            "Learning Rate: 0.000500\n",
            "Epoch 70 | Validation Loss: 2.09 | Time 2.88s | ETA: 210.19s\n",
            "Learning Rate: 0.000500\n",
            "Epoch 80 | Validation Loss: 2.01 | Time 2.77s | ETA: 199.37s\n",
            "Learning Rate: 0.000500\n",
            "Epoch 90 | Validation Loss: 2.00 | Time 3.73s | ETA: 264.76s\n",
            "Learning Rate: 0.000500\n",
            "Epoch 100 | Validation Loss: 2.06 | Time 2.75s | ETA: 192.75s\n",
            "Learning Rate: 0.000250\n",
            "Epoch 110 | Validation Loss: 2.00 | Time 3.40s | ETA: 234.29s\n",
            "Learning Rate: 0.000250\n",
            "Epoch 120 | Validation Loss: 2.04 | Time 2.81s | ETA: 190.77s\n",
            "Learning Rate: 0.000250\n",
            "Epoch 130 | Validation Loss: 1.96 | Time 2.92s | ETA: 195.41s\n",
            "Learning Rate: 0.000250\n",
            "Epoch 140 | Validation Loss: 1.95 | Time 3.46s | ETA: 228.37s\n",
            "Learning Rate: 0.000250\n",
            "Epoch 150 | Validation Loss: 2.03 | Time 3.00s | ETA: 194.68s\n",
            "Learning Rate: 0.000125\n",
            "Epoch 160 | Validation Loss: 1.97 | Time 3.26s | ETA: 208.64s\n",
            "Learning Rate: 0.000125\n",
            "Epoch 170 | Validation Loss: 1.93 | Time 2.78s | ETA: 175.40s\n",
            "Learning Rate: 0.000125\n",
            "Epoch 180 | Validation Loss: 1.91 | Time 2.88s | ETA: 178.33s\n",
            "Learning Rate: 0.000125\n",
            "Epoch 190 | Validation Loss: 1.94 | Time 3.44s | ETA: 210.02s\n",
            "Learning Rate: 0.000125\n",
            "Epoch 200 | Validation Loss: 1.88 | Time 2.87s | ETA: 172.31s\n",
            "Learning Rate: 0.000063\n",
            "Epoch 210 | Validation Loss: 1.95 | Time 2.98s | ETA: 176.08s\n",
            "Learning Rate: 0.000063\n",
            "Epoch 220 | Validation Loss: 2.00 | Time 2.72s | ETA: 157.67s\n",
            "Learning Rate: 0.000063\n",
            "Epoch 230 | Validation Loss: 1.98 | Time 2.91s | ETA: 165.79s\n",
            "Learning Rate: 0.000063\n",
            "Epoch 240 | Validation Loss: 1.96 | Time 3.60s | ETA: 201.36s\n",
            "Learning Rate: 0.000063\n",
            "Epoch 250 | Validation Loss: 1.86 | Time 2.76s | ETA: 151.85s\n",
            "Learning Rate: 0.000031\n",
            "Epoch 260 | Validation Loss: 1.99 | Time 2.91s | ETA: 156.88s\n",
            "Learning Rate: 0.000031\n",
            "Epoch 270 | Validation Loss: 2.01 | Time 2.86s | ETA: 151.82s\n",
            "Learning Rate: 0.000031\n",
            "Epoch 280 | Validation Loss: 1.78 | Time 2.92s | ETA: 151.80s\n",
            "Learning Rate: 0.000031\n",
            "Epoch 290 | Validation Loss: 1.93 | Time 3.74s | ETA: 190.93s\n",
            "Learning Rate: 0.000031\n",
            "Epoch 300 | Validation Loss: 1.96 | Time 2.85s | ETA: 142.44s\n",
            "Learning Rate: 0.000016\n",
            "Epoch 310 | Validation Loss: 1.90 | Time 2.80s | ETA: 137.16s\n",
            "Learning Rate: 0.000016\n",
            "Epoch 320 | Validation Loss: 1.90 | Time 3.00s | ETA: 144.01s\n",
            "Learning Rate: 0.000016\n",
            "Epoch 330 | Validation Loss: 1.86 | Time 2.76s | ETA: 129.89s\n",
            "Learning Rate: 0.000016\n",
            "Epoch 340 | Validation Loss: 1.88 | Time 3.88s | ETA: 178.52s\n",
            "Learning Rate: 0.000016\n",
            "Epoch 350 | Validation Loss: 2.05 | Time 2.93s | ETA: 131.73s\n",
            "Learning Rate: 0.000008\n",
            "Epoch 360 | Validation Loss: 1.95 | Time 3.08s | ETA: 135.62s\n",
            "Learning Rate: 0.000008\n",
            "Epoch 370 | Validation Loss: 1.96 | Time 2.93s | ETA: 126.02s\n",
            "Learning Rate: 0.000008\n",
            "Epoch 380 | Validation Loss: 1.95 | Time 2.67s | ETA: 111.93s\n",
            "Learning Rate: 0.000008\n",
            "Epoch 390 | Validation Loss: 1.96 | Time 3.73s | ETA: 153.09s\n",
            "Learning Rate: 0.000008\n",
            "Epoch 400 | Validation Loss: 1.88 | Time 2.75s | ETA: 109.88s\n",
            "Learning Rate: 0.000004\n",
            "Epoch 410 | Validation Loss: 1.96 | Time 2.79s | ETA: 108.88s\n",
            "Learning Rate: 0.000004\n",
            "Epoch 420 | Validation Loss: 1.89 | Time 2.94s | ETA: 111.66s\n",
            "Learning Rate: 0.000004\n",
            "Epoch 430 | Validation Loss: 1.86 | Time 2.95s | ETA: 109.09s\n",
            "Learning Rate: 0.000004\n",
            "Epoch 440 | Validation Loss: 2.02 | Time 3.72s | ETA: 134.08s\n",
            "Learning Rate: 0.000004\n",
            "Epoch 450 | Validation Loss: 1.91 | Time 2.92s | ETA: 102.12s\n",
            "Learning Rate: 0.000002\n",
            "Epoch 460 | Validation Loss: 1.94 | Time 2.90s | ETA: 98.75s\n",
            "Learning Rate: 0.000002\n",
            "Epoch 470 | Validation Loss: 1.92 | Time 2.95s | ETA: 97.38s\n",
            "Learning Rate: 0.000002\n",
            "Epoch 480 | Validation Loss: 1.95 | Time 2.84s | ETA: 90.95s\n",
            "Learning Rate: 0.000002\n",
            "Epoch 490 | Validation Loss: 1.93 | Time 3.55s | ETA: 109.91s\n",
            "Learning Rate: 0.000002\n",
            "Epoch 500 | Validation Loss: 1.92 | Time 2.79s | ETA: 83.70s\n",
            "Learning Rate: 0.000001\n",
            "Epoch 510 | Validation Loss: 1.98 | Time 2.74s | ETA: 79.52s\n",
            "Learning Rate: 0.000001\n",
            "Epoch 520 | Validation Loss: 1.87 | Time 3.05s | ETA: 85.28s\n",
            "Learning Rate: 0.000001\n",
            "Epoch 530 | Validation Loss: 1.98 | Time 2.87s | ETA: 77.62s\n",
            "Learning Rate: 0.000001\n",
            "Epoch 540 | Validation Loss: 2.02 | Time 3.75s | ETA: 97.40s\n",
            "Learning Rate: 0.000001\n",
            "Epoch 550 | Validation Loss: 1.94 | Time 2.68s | ETA: 67.04s\n",
            "Learning Rate: 0.000000\n",
            "Epoch 560 | Validation Loss: 1.89 | Time 2.97s | ETA: 71.37s\n",
            "Learning Rate: 0.000000\n",
            "Epoch 570 | Validation Loss: 2.00 | Time 3.14s | ETA: 72.30s\n",
            "Learning Rate: 0.000000\n",
            "Epoch 580 | Validation Loss: 1.92 | Time 2.97s | ETA: 65.40s\n",
            "Learning Rate: 0.000000\n",
            "Epoch 590 | Validation Loss: 1.99 | Time 3.80s | ETA: 79.72s\n",
            "Learning Rate: 0.000000\n",
            "Epoch 600 | Validation Loss: 1.88 | Time 2.73s | ETA: 54.67s\n",
            "Learning Rate: 0.000000\n",
            "Epoch 610 | Validation Loss: 1.94 | Time 2.99s | ETA: 56.72s\n",
            "Learning Rate: 0.000000\n",
            "Epoch 620 | Validation Loss: 1.92 | Time 2.96s | ETA: 53.24s\n",
            "Learning Rate: 0.000000\n",
            "Epoch 630 | Validation Loss: 1.91 | Time 2.74s | ETA: 46.59s\n",
            "Learning Rate: 0.000000\n",
            "Epoch 640 | Validation Loss: 1.90 | Time 3.64s | ETA: 58.30s\n",
            "Learning Rate: 0.000000\n",
            "Epoch 650 | Validation Loss: 1.92 | Time 2.69s | ETA: 40.29s\n",
            "Learning Rate: 0.000000\n",
            "Epoch 660 | Validation Loss: 1.91 | Time 2.77s | ETA: 38.79s\n",
            "Learning Rate: 0.000000\n",
            "Epoch 670 | Validation Loss: 1.94 | Time 3.08s | ETA: 40.07s\n",
            "Learning Rate: 0.000000\n",
            "Epoch 680 | Validation Loss: 1.96 | Time 2.67s | ETA: 32.04s\n",
            "Learning Rate: 0.000000\n",
            "Epoch 690 | Validation Loss: 2.00 | Time 3.84s | ETA: 42.19s\n",
            "Learning Rate: 0.000000\n",
            "Epoch 700 | Validation Loss: 1.91 | Time 2.79s | ETA: 27.89s\n",
            "Learning Rate: 0.000000\n",
            "Epoch 710 | Validation Loss: 1.93 | Time 2.84s | ETA: 25.58s\n",
            "Learning Rate: 0.000000\n",
            "Epoch 720 | Validation Loss: 1.92 | Time 3.37s | ETA: 26.98s\n",
            "Learning Rate: 0.000000\n",
            "Epoch 730 | Validation Loss: 1.89 | Time 2.78s | ETA: 19.44s\n",
            "Learning Rate: 0.000000\n",
            "Epoch 740 | Validation Loss: 1.86 | Time 3.73s | ETA: 22.39s\n",
            "Learning Rate: 0.000000\n",
            "Epoch 750 | Validation Loss: 1.87 | Time 3.33s | ETA: 16.64s\n",
            "Learning Rate: 0.000000\n",
            "Epoch 760 | Validation Loss: 1.89 | Time 3.22s | ETA: 12.86s\n",
            "Learning Rate: 0.000000\n",
            "Epoch 770 | Validation Loss: 1.86 | Time 2.76s | ETA: 8.29s\n",
            "Learning Rate: 0.000000\n",
            "Epoch 780 | Validation Loss: 1.87 | Time 3.00s | ETA: 6.00s\n",
            "Learning Rate: 0.000000\n",
            "Epoch 790 | Validation Loss: 1.89 | Time 3.59s | ETA: 3.59s\n",
            "Learning Rate: 0.000000\n",
            "Final cross-entropy loss after 800 epochs: **1.89**\n",
            "\n",
            "Total Training Execution Time (with scheduler optimization): 403.35 seconds\n"
          ]
        },
        {
          "data": {
            "image/png": "[encoded data removed]",
            "text/plain": [
              "<Figure size 640x480 with 1 Axes>"
            ]
          },
          "metadata": {},
          "output_type": "display_data"
        }
      ],
      "source": [
        "import time\n",
        "from torch.optim.lr_scheduler import StepLR\n",
        "\n",
        "# Update the number of epochs in the configuration\n",
        "MASTER_CONFIG.update({\n",
        "    'epochs': 800,\n",
        "})\n",
        "\n",
        "# Define a scheduler for learning rate adjustment\n",
        "scheduler = StepLR(optimizer, step_size=50, gamma=0.5)  # Reduces LR by half every 50 epochs\n",
        "\n",
        "# Measure start time\n",
        "start_time = time.time()\n",
        "\n",
        "# Training the model with scheduler for better optimization\n",
        "train(llama, optimizer, scheduler=scheduler, config=MASTER_CONFIG, print_logs=True)\n",
        "\n",
        "# Measure end time\n",
        "end_time = time.time()\n",
        "\n",
        "# Calculate and print execution time\n",
        "execution_time = end_time - start_time\n",
        "print(f\"\\nTotal Training Execution Time (with scheduler optimization): {execution_time:.2f} seconds\")"
      ]
    },
    {
      "cell_type": "markdown",
      "metadata": {
        "id": "Mzg8BcIlnpgO"
      },
      "source": [
        "- Implementing a scaled-down version of the LLaMA architecture on our custom dataset."
      ]
    },
    {
      "cell_type": "code",
      "execution_count": null,
      "metadata": {
        "colab": {
          "base_uri": "https://localhost:8080/"
        },
        "id": "LAc4CCRsnpgO",
        "outputId": "bc6c8780-335f-4e29-de9d-9ee962643a23"
      },
      "outputs": [
        {
          "name": "stdout",
          "output_type": "stream",
          "text": [
            "tensor(2.2755, grad_fn=<NllLossBackward0>)\n"
          ]
        }
      ],
      "source": [
        "# Get batches from the test set\n",
        "xs, ys = get_batches(dataset, 'test', MASTER_CONFIG['batch_size'], MASTER_CONFIG['context_window'])\n",
        "\n",
        "# Pass the test data through the LLaMA model\n",
        "logits, loss = llama(xs, ys)\n",
        "\n",
        "# Print the loss on the test set\n",
        "print(loss)"
      ]
    },
    {
      "cell_type": "code",
      "execution_count": null,
      "metadata": {
        "colab": {
          "background_save": true
        },
        "id": "jSf7e9_xMA9K",
        "outputId": "06cbf6c4-11ff-4adf-c1bc-c2c95b85df53"
      },
      "outputs": [
        {
          "name": "stdout",
          "output_type": "stream",
          "text": [
            "Q: What is quantum computing?\n",
            "A: Answer the following question: What is quantum computing?\n",
            "for since probability of mallowing systems in stargestangle, and alloging can be discreted by be are classed sume problems we single with a such a reding a see deach in of concessing of probability a in we can be spection of machod with in operator the and state is a gate of a be of the every the probability of a of example from probability of the sing the outation with an it such the leartors in Sectors reespace supeds the actors call may in in the ach end the to the orrend for the defection the the introlled a computers algorithm the sing the state neart be convect in of in which probability eversible computing expace in the matrix is a supping the introded of the the the can out of probability a convelse with probability of in the the and the the the outs of the of the code for basis called the the extend at when are is of a pille for the sumput send a now contection of bain seard such in a stare a problem in such of exparator of the system in the discrease the signer the may of qui\n"
          ]
        }
      ],
      "source": [
        "def qa_system(model, prompt_prefix=\"Answer the following question: \", config=MASTER_CONFIG):\n",
        "    model.eval()\n",
        "    while True:\n",
        "        question = input(\"Enter your question (or type 'exit' to quit): \")\n",
        "        if question.lower() == 'exit':\n",
        "            break\n",
        "        prompt = prompt_prefix + question + \"\\n\"\n",
        "        response = generate(model, prompt, config=config, max_new_tokens=1000, temperature=0.7, top_p=0.9)\n",
        "        print(\"Q:\", question)\n",
        "        print(\"A:\", response)\n",
        "\n",
        "# Q&A system:\n",
        "qa_system(llama, config=MASTER_CONFIG)"
      ]
    }
  ],
  "metadata": {
    "colab": {
      "provenance": []
    },
    "kernelspec": {
      "display_name": "cloudspace",
      "language": "python",
      "name": "python3"
    },
    "language_info": {
      "codemirror_mode": {
        "name": "ipython",
        "version": 3
      },
      "file_extension": ".py",
      "mimetype": "text/x-python",
      "name": "python",
      "nbconvert_exporter": "python",
      "pygments_lexer": "ipython3",
      "version": "3.10.10"
    }
  },
  "nbformat": 4,
  "nbformat_minor": 0
}